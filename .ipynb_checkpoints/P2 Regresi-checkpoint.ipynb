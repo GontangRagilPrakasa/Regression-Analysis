{
 "cells": [
  {
   "cell_type": "markdown",
   "metadata": {
    "collapsed": true
   },
   "source": [
    "By : Gontang Ragil Prakasa\n",
    "Teknik Informatika\n",
    "Universitas Ahmad Dahlan\n"
   ]
  },
  {
   "cell_type": "markdown",
   "metadata": {},
   "source": [
    "<h1>Regresi</h1>\n",
    "<h2>Apa itu Regresi Linier</h2>\n",
    "<p>Regresi merupakan ? <p>\n",
    "\n",
    "<p><b>Regresi Linier Sederhana</b></p>\n",
    "<p>Kita tadi sudah membahas mengenai regresi linier. Regresi linier, regresi yang memiliki variabel bebas X berpangkat pelaing tinggi satu, dapat diartikan bahwa regresi linier sederhana hanya melibatkan satu variabel bebas X </p>\n",
    "<p><b>Regresi Linier Berganda</b></p>\n",
    "<p>Kita tadi sudah membahas mengenai regresi linier. Regresi linier, regresi yang memiliki variabel bebas X berpangkat pelaing tinggi satu, dapat diartikan bahwa regresi linier berganda hanya melibatkan lebih dari satu variabel bebas X </p>\n",
    "<h2>Berdasarkan fungsi objektifnya, regresi dapat dibedakan menjadi ?</h2>\n",
    "<tr>\n",
    "    <td>1.</td><br>\n",
    "    <td>2.</td><br>\n",
    "    <td>3.</td><br>\n",
    "</tr>\n",
    "np pangkat menggunakan fungsi sup ex 2 pangkat 3 atas bisa ditulis 2<sup>3</sup><br>\n",
    "np pangkat menggunakan fungsi sup ex 2 pangkat 3 bawah bisa ditulis 2<sub>3</sub>"
   ]
  },
  {
   "cell_type": "code",
   "execution_count": 1,
   "metadata": {
    "collapsed": true
   },
   "outputs": [],
   "source": [
    "##kita import library yang akan kita butuhkan"
   ]
  },
  {
   "cell_type": "markdown",
   "metadata": {},
   "source": [
    "<p> Pada praktikum ini kita akan menggunakan dataset <b> Bostom Housing </b></p>\n",
    "<img src = \"image/boston.png\" width=\"700px\" height=\"800px\" />\n",
    "<p>Boston Housing dataset memuat 506 data tempat yang telah disurvey nilai-nilai\n",
    "dalam 14 atribut di atas. Pada library scikit learn, atribut ke 14 yaitu medv disebut\n",
    "sebagai target sebab atribut inilah yang sering di prediksi dengan regresi.</p>"
   ]
  },
  {
   "cell_type": "code",
   "execution_count": 24,
   "metadata": {
    "collapsed": true
   },
   "outputs": [],
   "source": [
    "import matplotlib.pyplot as plt \n",
    "import numpy as np \n",
    "from sklearn import datasets, linear_model\n",
    "\n",
    "boston = datasets.load_boston()\n",
    "boston.data.shape\n",
    "lstat = boston.data[:, np.newaxis, 12]\n",
    "target = boston.target\n",
    "plt.scatter(lstat, target,  color='red') \n",
    "#plt.show()\n",
    "\n",
    "regr = linear_model.LinearRegression()\n",
    "regr.fit(lstat, target)\n",
    "prediks = regr.predict(9.77)\n",
    "# print(prediks)\n"
   ]
  },
  {
   "cell_type": "code",
   "execution_count": 49,
   "metadata": {},
   "outputs": [
    {
     "name": "stdout",
     "output_type": "stream",
     "text": [
      "data usia nikah [[28.3  28.1  27.2  26.5  26.5  25.86 25.5  24.9  24.15 23.8 ]]\n",
      "data penghasilan [[2.5  2.75 3.2  3.3  3.75 4.1  4.25 4.8  5.1  5.25]]\n"
     ]
    },
    {
     "ename": "AttributeError",
     "evalue": "'numpy.ndarray' object has no attribute 'target'",
     "output_type": "error",
     "traceback": [
      "\u001b[1;31m---------------------------------------------------------------------------\u001b[0m",
      "\u001b[1;31mAttributeError\u001b[0m                            Traceback (most recent call last)",
      "\u001b[1;32m<ipython-input-49-5dc5592cb7df>\u001b[0m in \u001b[0;36m<module>\u001b[1;34m()\u001b[0m\n\u001b[0;32m      9\u001b[0m \u001b[0mprint\u001b[0m\u001b[1;33m(\u001b[0m\u001b[1;34m\"data usia nikah\"\u001b[0m\u001b[1;33m,\u001b[0m\u001b[0mdata_usia_nikah\u001b[0m\u001b[1;33m)\u001b[0m\u001b[1;33m\u001b[0m\u001b[0m\n\u001b[0;32m     10\u001b[0m \u001b[0mprint\u001b[0m\u001b[1;33m(\u001b[0m\u001b[1;34m\"data penghasilan\"\u001b[0m\u001b[1;33m,\u001b[0m\u001b[0mdata_penghasilan\u001b[0m\u001b[1;33m)\u001b[0m\u001b[1;33m\u001b[0m\u001b[0m\n\u001b[1;32m---> 11\u001b[1;33m \u001b[0mtarget_penghasilan\u001b[0m \u001b[1;33m=\u001b[0m \u001b[0mdata_penghasilan\u001b[0m\u001b[1;33m.\u001b[0m\u001b[0mtarget\u001b[0m\u001b[1;33m\u001b[0m\u001b[0m\n\u001b[0m\u001b[0;32m     12\u001b[0m \u001b[0mtarget_usia_nikah\u001b[0m \u001b[1;33m=\u001b[0m \u001b[0mdata_usia_nikah\u001b[0m\u001b[1;33m.\u001b[0m\u001b[0mtarget\u001b[0m\u001b[1;33m\u001b[0m\u001b[0m\n",
      "\u001b[1;31mAttributeError\u001b[0m: 'numpy.ndarray' object has no attribute 'target'"
     ]
    }
   ],
   "source": []
  },
  {
   "cell_type": "code",
   "execution_count": 2,
   "metadata": {
    "collapsed": true
   },
   "outputs": [],
   "source": [
    "##Boston Housing dataset sudah tersedia di dalam library dataset Scikit Learn,\n",
    "##sehingga kita dapat langsung menge-load dataset tsb ke notebook. Ketikkan kode di\n",
    "##bawah ini seperti pada gambar."
   ]
  },
  {
   "cell_type": "code",
   "execution_count": 3,
   "metadata": {
    "collapsed": true
   },
   "outputs": [],
   "source": [
    "##Kita dapat melihat informasi ukuran data dari Dataset Boston Housing dengan\n",
    "##memanggil perintah:\n"
   ]
  },
  {
   "cell_type": "code",
   "execution_count": 4,
   "metadata": {
    "collapsed": true
   },
   "outputs": [],
   "source": [
    "#Selanjutnya kita hanya akan menggunakan data lstat dengan data target yaitu medv.\n",
    "#Data lstat merupakan atribut ke-13 (indeks ke 12) pada data Boston Housing.\n",
    "#Data lstat menunjukkan persentase populasi dengan status rendah (pekerja\n",
    "#rendah/kasar) pada kota Boston di 506 titik yang dijadikan sampel.\n",
    "#Data medv menunjukkan nilai median dari harga rumah di 506 titik yang dijadikan sampel\n",
    "#dalam ($ 1000)\n",
    "#Kita akan melihat hubungan data lstat dengan data medv dengan Regresi.\n",
    "#Ambil data lstat dari dataset dengan kode berikut ini:\n",
    "\n",
    "#newaxis adalah fungsi yang ada dialam numpy yaitu digunakan untuk meningkatkan dimensi \n",
    "#array yang ada dengan satu dimensi lagi, bila digunakan sekali"
   ]
  },
  {
   "cell_type": "code",
   "execution_count": 5,
   "metadata": {
    "collapsed": true
   },
   "outputs": [],
   "source": [
    "#Selanjutnya ambil data target yaitu medv dengan kode berikut ini:"
   ]
  },
  {
   "cell_type": "code",
   "execution_count": 6,
   "metadata": {
    "collapsed": true
   },
   "outputs": [],
   "source": [
    "#Sekarang fokus kita adalah data lstat dan target. Kita lihat relasi/hubungan antara lstat\n",
    "#dan target dengan menampilkan kedua data pada diagram koordinat.\n",
    "\n",
    "#scatter yaitu digunakan untuk membuat plot pencar di mana properti dari setiap titik individu\n",
    "#ukuran, warna wajah, warna tepi, dll.) Dapat dikontrol secara individual atau dipetakan ke data.\n",
    "\n",
    "#Tampak pada diagram koordinat bahwa kita dapat merepresentasikan hubungan/korelasi\n",
    "#antara lstat dengan medv dengan regresi linier. Meskipun tidak 100% pas namun\n",
    "#mendekati. "
   ]
  },
  {
   "cell_type": "code",
   "execution_count": 7,
   "metadata": {
    "collapsed": true
   },
   "outputs": [],
   "source": [
    "#Selanjutnya kita akan membuat model Regresi Linier dengan menggunakan kode berikut\n",
    "#ini:\n",
    "\n",
    "#linier_model merupakan fungsi yang terdapat pada sklearn"
   ]
  },
  {
   "cell_type": "code",
   "execution_count": 8,
   "metadata": {
    "collapsed": true
   },
   "outputs": [],
   "source": [
    "#Setelah kita membuat model regresi linier antara atribut lstat dengan medv, kita dapat\n",
    "#melakukan prediksi nilai medv dari suatu nilai lstat yang sudah diketahui.\n",
    "#Misalnya diketahui data lstat sebagai berikut:\n",
    "#9.77\n",
    "#10.61\n",
    "#11.13\n",
    "#12.72\n",
    "#15.55\n",
    "#Tentukan nilai medv jika diketahui lstat di atas.\n"
   ]
  },
  {
   "cell_type": "markdown",
   "metadata": {},
   "source": [
    "<h2>Postest</h2>\n",
    "Silahkan cek modul"
   ]
  },
  {
   "cell_type": "code",
   "execution_count": null,
   "metadata": {
    "collapsed": true
   },
   "outputs": [],
   "source": []
  }
 ],
 "metadata": {
  "kernelspec": {
   "display_name": "Python 3",
   "language": "python",
   "name": "python3"
  },
  "language_info": {
   "codemirror_mode": {
    "name": "ipython",
    "version": 3
   },
   "file_extension": ".py",
   "mimetype": "text/x-python",
   "name": "python",
   "nbconvert_exporter": "python",
   "pygments_lexer": "ipython3",
   "version": "3.6.3"
  }
 },
 "nbformat": 4,
 "nbformat_minor": 2
}
